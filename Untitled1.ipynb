{
 "cells": [
  {
   "cell_type": "code",
   "execution_count": 20,
   "metadata": {},
   "outputs": [],
   "source": [
    "%matplotlib inline\n"
   ]
  },
  {
   "cell_type": "code",
   "execution_count": 24,
   "metadata": {},
   "outputs": [
    {
     "name": "stdout",
     "output_type": "stream",
     "text": [
      "Loading trajectories ...\n",
      "Computing Frechet distances ...\n",
      "Computing prerequisite data structures for greedy algorithm ...\n",
      "Running greedy algorithm ...\n",
      "{1: (Subtraj TrajID 1 ; bounds (0, 11), 0)}\n",
      "{2: (Subtraj TrajID 2 ; bounds (0, 9), 0)}\n",
      "('number of Unprocessed Points', [22])\n",
      "number of poits is 22\n",
      "number of poits is 10\n",
      "('Bundles and subtrajectories in the bundle', {pathlet TrajID 1 ; bounds (0, 11): [Subtraj TrajID 1 ; bounds (0, 11)], pathlet TrajID 2 ; bounds (0, 9): [Subtraj TrajID 2 ; bounds (0, 9)]})\n",
      "('Unassigned Points', [])\n"
     ]
    }
   ],
   "source": [
    "\n",
    "import _pickle as pickle\n",
    "\n",
    "from base import *\n",
    "from distance import *\n",
    "from greedy import *\n",
    "from base import *\n",
    "import datetime\n",
    "\n",
    "import pandas as pd\n",
    "\n",
    "def readTrajsFromTxtFile(fName):\n",
    "    df = pd.read_csv(fName,\n",
    "                     sep=',',\n",
    "                     header=None,\n",
    "                     names=['trajID', 't', 'lat', 'lon'],\n",
    "                     comment='#')\n",
    "    df['t'] = pd.to_datetime(df.t)\n",
    "    df = df.sort_values(by='t')\n",
    "    df = df.groupby(by='trajID')\n",
    "    return df\n",
    "\n",
    "if __name__ == \"__main__\":\n",
    "\n",
    "    print(\"Loading trajectories ...\")\n",
    "    trajs = readTrajsFromTxtFile(\"data/small.txt\")\n",
    "    # print((\"trajectories are\",trajs))\n",
    "    rmin, rmax = 0.5, 2\n",
    "\n",
    "    print(\"Computing Frechet distances ...\")\n",
    "    distPairs1 = process(trajs, rmin, rmax)\n",
    "    # print((\"Output of Frechet distance\", distPairs1))\n",
    "    distPairs2 = {}\n",
    "    for k, v in distPairs1.items():\n",
    "        pth, trID, dist, straj = k[0], k[1].trajID, v, k[1]\n",
    "        if (pth, trID) in distPairs2:\n",
    "            distPairs2[(pth, trID)].append((straj, dist))\n",
    "        else:\n",
    "            distPairs2[(pth, trID)] = [(straj, dist)]\n",
    "    print(\"Computing prerequisite data structures for greedy algorithm ...\")\n",
    "    (strajCov, ptStraj, strajPth, trajCov) = preprocess(trajs, distPairs2)\n",
    "    #print(\"Pre-requiste data structure are:\")\n",
    "    # print((\"strajCov\",strajCov))\n",
    "    # print((\"ptStraj\",ptStraj))\n",
    "    # print((\"strajPth\",strajPth))\n",
    "    # print((\"trajCov\",trajCov))\n",
    "\n",
    "    c1, c2, c3 = 1, 1, 1\n",
    "\n",
    "    print(\"Running greedy algorithm ...\")\n",
    "    retVal = Greedy(trajs, distPairs2, strajCov, ptStraj,\n",
    "                    strajPth, trajCov, c1, c2, c3)\n",
    "    #print((\"Bundle assigned and unassigned points are\",retVal))\n"
   ]
  },
  {
   "cell_type": "code",
   "execution_count": null,
   "metadata": {},
   "outputs": [],
   "source": []
  },
  {
   "cell_type": "code",
   "execution_count": null,
   "metadata": {},
   "outputs": [],
   "source": []
  }
 ],
 "metadata": {
  "kernelspec": {
   "display_name": "Python 3",
   "language": "python",
   "name": "python3"
  },
  "language_info": {
   "codemirror_mode": {
    "name": "ipython",
    "version": 3
   },
   "file_extension": ".py",
   "mimetype": "text/x-python",
   "name": "python",
   "nbconvert_exporter": "python",
   "pygments_lexer": "ipython3",
   "version": "3.6.5"
  }
 },
 "nbformat": 4,
 "nbformat_minor": 2
}
